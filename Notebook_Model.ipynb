{
 "cells": [
  {
   "cell_type": "markdown",
   "id": "2e60f7aa",
   "metadata": {},
   "source": [
    "# - Imports"
   ]
  },
  {
   "cell_type": "code",
   "execution_count": 21,
   "id": "c96b6c34",
   "metadata": {
    "ExecuteTime": {
     "end_time": "2023-02-02T15:22:47.519249Z",
     "start_time": "2023-02-02T15:22:47.492943Z"
    }
   },
   "outputs": [],
   "source": [
    "#Imports which i took from the model_evaluation notebook \n",
    "import numpy as np\n",
    "import pandas as pd\n",
    "import matplotlib.pyplot as plt\n",
    "import seaborn as sns\n",
    "\n",
    "from sklearn.model_selection import train_test_split\n",
    "from sklearn.model_selection import cross_validate\n",
    "from sklearn.model_selection import cross_val_score\n",
    "from sklearn.model_selection import cross_val_predict\n",
    "from sklearn.linear_model import LinearRegression\n",
    "from sklearn.dummy import DummyClassifier\n",
    "from sklearn.neighbors import KNeighborsClassifier\n",
    "\n",
    "import math  \n",
    "from sklearn import metrics\n",
    "\n",
    "from sklearn.model_selection import learning_curve\n",
    "\n",
    "from statsmodels.stats.outliers_influence import variance_inflation_factor as vif\n",
    "\n",
    "from sklearn.inspection import permutation_importance\n",
    "import warnings\n",
    "warnings.simplefilter(action=\"ignore\")"
   ]
  },
  {
   "cell_type": "raw",
   "id": "92f96efd",
   "metadata": {},
   "source": [
    "See Notebook_EDA first iteration to understand what we're importing"
   ]
  },
  {
   "cell_type": "markdown",
   "id": "53a8adc3",
   "metadata": {},
   "source": [
    "# - 1st Iteration of the baseline model"
   ]
  },
  {
   "cell_type": "code",
   "execution_count": 5,
   "id": "d11c8bee",
   "metadata": {
    "ExecuteTime": {
     "end_time": "2023-02-02T15:15:25.668426Z",
     "start_time": "2023-02-02T15:15:25.571982Z"
    }
   },
   "outputs": [],
   "source": [
    "raw_data_nan_to_zero = pd.read_csv('data/raw_data_nan_to_zero.csv')"
   ]
  },
  {
   "cell_type": "code",
   "execution_count": 6,
   "id": "ef336167",
   "metadata": {
    "ExecuteTime": {
     "end_time": "2023-02-02T15:15:26.815084Z",
     "start_time": "2023-02-02T15:15:26.749119Z"
    }
   },
   "outputs": [
    {
     "data": {
      "text/plain": [
       "0.04620881782945736"
      ]
     },
     "execution_count": 6,
     "metadata": {},
     "output_type": "execute_result"
    }
   ],
   "source": [
    "y = raw_data_nan_to_zero['median_house_value']\n",
    "X = raw_data_nan_to_zero.drop(\"median_house_value\", axis=1)\n",
    "\n",
    "# instantiate Dummy classifier\n",
    "dummy_clf = DummyClassifier(strategy=\"most_frequent\")\n",
    "\n",
    "# fit the modem\n",
    "dummy_clf.fit(X, y)\n",
    "\n",
    "dummy_clf.score(X, y)"
   ]
  },
  {
   "cell_type": "raw",
   "id": "af04796b",
   "metadata": {},
   "source": [
    "That's really bad but it's just a baseline. Let's try another model"
   ]
  },
  {
   "cell_type": "markdown",
   "id": "903c96b1",
   "metadata": {},
   "source": [
    "# - 2nd Iteration"
   ]
  },
  {
   "cell_type": "code",
   "execution_count": 7,
   "id": "af5581cb",
   "metadata": {
    "ExecuteTime": {
     "end_time": "2023-02-02T15:15:34.301243Z",
     "start_time": "2023-02-02T15:15:34.191103Z"
    }
   },
   "outputs": [
    {
     "data": {
      "text/plain": [
       "0.6350276537079453"
      ]
     },
     "execution_count": 7,
     "metadata": {},
     "output_type": "execute_result"
    }
   ],
   "source": [
    "y = raw_data_nan_to_zero['median_house_value']\n",
    "X = raw_data_nan_to_zero.drop(\"median_house_value\", axis=1)\n",
    "\n",
    "X_train, X_test, y_train, y_test = train_test_split(X, y, test_size=.3, random_state=1)\n",
    "model = LinearRegression()\n",
    "model.fit(X_train, y_train)\n",
    "model.score(X_test, y_test)"
   ]
  },
  {
   "cell_type": "raw",
   "id": "f32cdc07",
   "metadata": {},
   "source": [
    "Way better, let's try to change the nans to the mean of the column"
   ]
  },
  {
   "cell_type": "markdown",
   "id": "0a05ba6f",
   "metadata": {},
   "source": [
    "# - 3rd Iteration"
   ]
  },
  {
   "cell_type": "code",
   "execution_count": 8,
   "id": "dab2da14",
   "metadata": {
    "ExecuteTime": {
     "end_time": "2023-02-02T15:15:37.972980Z",
     "start_time": "2023-02-02T15:15:37.894102Z"
    }
   },
   "outputs": [],
   "source": [
    "raw_data_nan_to_mean = pd.read_csv(\"data/raw_data_nan_to_mean.csv\")"
   ]
  },
  {
   "cell_type": "code",
   "execution_count": 9,
   "id": "15375cac",
   "metadata": {
    "ExecuteTime": {
     "end_time": "2023-02-02T15:15:39.390201Z",
     "start_time": "2023-02-02T15:15:39.284706Z"
    },
    "scrolled": true
   },
   "outputs": [
    {
     "data": {
      "text/plain": [
       "0.6360550338337339"
      ]
     },
     "execution_count": 9,
     "metadata": {},
     "output_type": "execute_result"
    }
   ],
   "source": [
    "y = raw_data_nan_to_mean['median_house_value']\n",
    "X = raw_data_nan_to_mean.drop(\"median_house_value\", axis=1)\n",
    "\n",
    "X_train, X_test, y_train, y_test = train_test_split(X, y, test_size=.3, random_state=1)\n",
    "model = LinearRegression()\n",
    "model.fit(X_train, y_train)\n",
    "model.score(X_test, y_test)"
   ]
  },
  {
   "cell_type": "markdown",
   "id": "508c2d04",
   "metadata": {},
   "source": [
    "# - 4th Iteration"
   ]
  },
  {
   "cell_type": "code",
   "execution_count": 10,
   "id": "2e923ad5",
   "metadata": {
    "ExecuteTime": {
     "end_time": "2023-02-02T15:15:41.343400Z",
     "start_time": "2023-02-02T15:15:41.266886Z"
    }
   },
   "outputs": [],
   "source": [
    "raw_data_nan_to_med= pd.read_csv(\"data/raw_data_nan_to_med.csv\")"
   ]
  },
  {
   "cell_type": "code",
   "execution_count": 11,
   "id": "7275a919",
   "metadata": {
    "ExecuteTime": {
     "end_time": "2023-02-02T15:15:43.252082Z",
     "start_time": "2023-02-02T15:15:43.153294Z"
    }
   },
   "outputs": [
    {
     "data": {
      "text/plain": [
       "0.6359686981173531"
      ]
     },
     "execution_count": 11,
     "metadata": {},
     "output_type": "execute_result"
    }
   ],
   "source": [
    "y = raw_data_nan_to_med['median_house_value']\n",
    "X = raw_data_nan_to_med.drop(\"median_house_value\", axis=1)\n",
    "\n",
    "X_train, X_test, y_train, y_test = train_test_split(X, y, test_size=.3, random_state=1)\n",
    "model = LinearRegression()\n",
    "model.fit(X_train, y_train)\n",
    "model.score(X_test, y_test)"
   ]
  },
  {
   "cell_type": "raw",
   "id": "85578802",
   "metadata": {},
   "source": [
    "Looks like the mean is the best imputation we have right now. We'll keep it for the next steps"
   ]
  },
  {
   "cell_type": "markdown",
   "id": "2446827c",
   "metadata": {},
   "source": [
    "# - 5th Iteration"
   ]
  },
  {
   "cell_type": "raw",
   "id": "221e0183",
   "metadata": {},
   "source": [
    "Let's try using a better encoding method, and also create a function to cross validate every model from now on"
   ]
  },
  {
   "cell_type": "code",
   "execution_count": 13,
   "id": "8e5b7372",
   "metadata": {
    "ExecuteTime": {
     "end_time": "2023-02-02T15:16:56.977898Z",
     "start_time": "2023-02-02T15:16:56.945381Z"
    }
   },
   "outputs": [],
   "source": [
    "#making a function to do everything i need in a Linear regression\n",
    "def Lineareg(data,target):\n",
    "    #linear regression\n",
    "    y = data[target]\n",
    "    X = data.drop(target, axis=1)\n",
    "    X_train, X_test, y_train, y_test = train_test_split(X, y, test_size=.3, random_state=1)\n",
    "    model = LinearRegression()\n",
    "    model.fit(X_train, y_train)\n",
    "    y_pred = model.predict(X_test)\n",
    "    print(f'initial model score is {model.score(X_test, y_test)}')\n",
    "    #cross validation\n",
    "    K = []\n",
    "    total_time = []\n",
    "    score = []\n",
    "    for k in range(2,20):\n",
    "        cross_val_results = cross_validate(model, X, y, cv=k)\n",
    "        total_time.append(sum(cross_val_results['fit_time'])+sum(cross_val_results['score_time']))\n",
    "        K.append(k)\n",
    "        score.append(cross_val_results['test_score'].mean())\n",
    "    #wrote these 2 lines to select the best cross validate value\n",
    "    best_cv = pd.DataFrame({'K': K,'score': score})\n",
    "    cross = best_cv.query(f'score=={max(score)}')['K'].item()\n",
    "    cv_results = cross_validate(model,X, y,cv=cross, scoring=('r2', 'neg_root_mean_squared_error','neg_mean_absolute_error'))\n",
    "    r2 = cv_results['test_r2'].mean()\n",
    "    rmse = cv_results['test_neg_root_mean_squared_error'].mean()\n",
    "    print(f'r2: {r2}')\n",
    "    print(f'rmse: {rmse}')"
   ]
  },
  {
   "cell_type": "code",
   "execution_count": 15,
   "id": "109f7aa0",
   "metadata": {
    "ExecuteTime": {
     "end_time": "2023-02-02T15:17:32.426982Z",
     "start_time": "2023-02-02T15:17:14.901207Z"
    }
   },
   "outputs": [
    {
     "name": "stdout",
     "output_type": "stream",
     "text": [
      "initial model score is 0.6360550338337339\n",
      "r2: 0.6397134471063386\n",
      "rmse: -69119.91721229277\n"
     ]
    }
   ],
   "source": [
    "Lineareg(raw_data_nan_to_mean, 'median_house_value')"
   ]
  },
  {
   "cell_type": "raw",
   "id": "5e4cf9d0",
   "metadata": {},
   "source": [
    "It's even better than what I thought. Lets get the newly encoded df !"
   ]
  },
  {
   "cell_type": "code",
   "execution_count": 17,
   "id": "15fade61",
   "metadata": {
    "ExecuteTime": {
     "end_time": "2023-02-02T15:17:38.404701Z",
     "start_time": "2023-02-02T15:17:38.306709Z"
    }
   },
   "outputs": [],
   "source": [
    "raw_data_encoded_fillna_mean = pd.read_csv('data/raw_data_encoded_fillna_mean.csv')"
   ]
  },
  {
   "cell_type": "code",
   "execution_count": 18,
   "id": "66e53d0e",
   "metadata": {
    "ExecuteTime": {
     "end_time": "2023-02-02T15:17:59.912246Z",
     "start_time": "2023-02-02T15:17:39.647158Z"
    }
   },
   "outputs": [
    {
     "name": "stdout",
     "output_type": "stream",
     "text": [
      "initial model score is 0.6449807236042295\n",
      "r2: 0.6466023555655036\n",
      "rmse: -68476.61129675336\n"
     ]
    }
   ],
   "source": [
    "Lineareg(raw_data_encoded_fillna_mean, 'median_house_value')"
   ]
  },
  {
   "cell_type": "raw",
   "id": "b915d299",
   "metadata": {},
   "source": [
    "Our model improved by 0.69%!"
   ]
  },
  {
   "cell_type": "markdown",
   "id": "b549634e",
   "metadata": {},
   "source": [
    "# - 6th Iteration"
   ]
  },
  {
   "cell_type": "code",
   "execution_count": 19,
   "id": "a7ace6a7",
   "metadata": {
    "ExecuteTime": {
     "end_time": "2023-02-02T15:18:00.156882Z",
     "start_time": "2023-02-02T15:17:59.943947Z"
    }
   },
   "outputs": [],
   "source": [
    "data_encode_age = pd.read_csv('data/data_encode_age.csv')"
   ]
  },
  {
   "cell_type": "code",
   "execution_count": 20,
   "id": "ad4a0eb0",
   "metadata": {
    "ExecuteTime": {
     "end_time": "2023-02-02T15:18:39.565899Z",
     "start_time": "2023-02-02T15:18:18.851822Z"
    }
   },
   "outputs": [
    {
     "name": "stdout",
     "output_type": "stream",
     "text": [
      "initial model score is 0.6497683764601893\n",
      "r2: 0.6494765444834258\n",
      "rmse: -68173.99712150189\n"
     ]
    }
   ],
   "source": [
    "Lineareg(data_encode_age ,'median_house_value')"
   ]
  },
  {
   "cell_type": "code",
   "execution_count": 23,
   "id": "7991dbcb",
   "metadata": {
    "ExecuteTime": {
     "end_time": "2023-02-02T15:28:06.283203Z",
     "start_time": "2023-02-02T15:28:06.272312Z"
    }
   },
   "outputs": [],
   "source": [
    "target = 'median_house_value'"
   ]
  },
  {
   "cell_type": "markdown",
   "id": "27b264ce",
   "metadata": {},
   "source": [
    "# - 7th Iteration"
   ]
  },
  {
   "cell_type": "code",
   "execution_count": 22,
   "id": "62f35b2c",
   "metadata": {
    "ExecuteTime": {
     "end_time": "2023-02-02T15:27:18.226068Z",
     "start_time": "2023-02-02T15:27:18.092151Z"
    }
   },
   "outputs": [],
   "source": [
    "data_scaling = pd.read_csv('data/data_scaling.csv')"
   ]
  },
  {
   "cell_type": "code",
   "execution_count": 24,
   "id": "83422215",
   "metadata": {
    "ExecuteTime": {
     "end_time": "2023-02-02T15:28:31.623201Z",
     "start_time": "2023-02-02T15:28:11.568277Z"
    }
   },
   "outputs": [
    {
     "name": "stdout",
     "output_type": "stream",
     "text": [
      "initial model score is 0.6494778697973569\n",
      "r2: 0.6485357267748981\n",
      "rmse: -68266.99804115573\n"
     ]
    }
   ],
   "source": [
    "Lineareg(data_scaling, target)"
   ]
  },
  {
   "cell_type": "markdown",
   "id": "d76dd5ad",
   "metadata": {},
   "source": [
    "scaling the data makes it worse"
   ]
  },
  {
   "cell_type": "markdown",
   "id": "ce10cef4",
   "metadata": {},
   "source": [
    "Since I have no more time, I'll be using the 6th iteration as my final and best model"
   ]
  }
 ],
 "metadata": {
  "kernelspec": {
   "display_name": "Python 3 (ipykernel)",
   "language": "python",
   "name": "python3"
  },
  "language_info": {
   "codemirror_mode": {
    "name": "ipython",
    "version": 3
   },
   "file_extension": ".py",
   "mimetype": "text/x-python",
   "name": "python",
   "nbconvert_exporter": "python",
   "pygments_lexer": "ipython3",
   "version": "3.8.12"
  },
  "toc": {
   "base_numbering": 1,
   "nav_menu": {},
   "number_sections": true,
   "sideBar": true,
   "skip_h1_title": false,
   "title_cell": "Table of Contents",
   "title_sidebar": "Contents",
   "toc_cell": false,
   "toc_position": {},
   "toc_section_display": true,
   "toc_window_display": false
  }
 },
 "nbformat": 4,
 "nbformat_minor": 5
}
