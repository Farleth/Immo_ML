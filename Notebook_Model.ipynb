{
 "cells": [
  {
   "cell_type": "markdown",
   "id": "2e60f7aa",
   "metadata": {},
   "source": [
    "# - Imports"
   ]
  },
  {
   "cell_type": "code",
   "execution_count": 2,
   "id": "c96b6c34",
   "metadata": {
    "ExecuteTime": {
     "end_time": "2023-02-02T10:23:53.209037Z",
     "start_time": "2023-02-02T10:23:48.270231Z"
    }
   },
   "outputs": [],
   "source": [
    "# Imports\n",
    "import numpy as np\n",
    "import pandas as pd\n",
    "import matplotlib.pyplot as plt\n",
    "import seaborn as sns\n",
    "import missingno as mn\n",
    "\n",
    "from scipy import stats\n",
    "\n",
    "import statsmodels.api as sm\n",
    "\n",
    "from sklearn.preprocessing import MinMaxScaler\n",
    "from sklearn.tree import DecisionTreeRegressor\n",
    "\n",
    "from statsmodels.formula.api import ols\n",
    "from sklearn.model_selection import train_test_split\n",
    "from sklearn.model_selection import cross_validate\n",
    "from sklearn.model_selection import cross_val_score\n",
    "from sklearn.model_selection import cross_val_predict\n",
    "\n",
    "from sklearn.linear_model import LogisticRegression\n",
    "from sklearn.dummy import DummyClassifier\n",
    "from sklearn.neighbors import KNeighborsClassifier\n",
    "from sklearn.linear_model import LinearRegression\n",
    "\n",
    "from sklearn.metrics import accuracy_score, precision_score, recall_score, f1_score, \\\n",
    "    confusion_matrix, classification_report\n",
    "\n",
    "from sklearn.metrics import roc_auc_score, plot_roc_curve, roc_curve\n",
    "from sklearn.metrics import average_precision_score\n",
    "from sklearn.metrics import precision_recall_curve,plot_precision_recall_curve\n",
    "\n",
    "from sklearn.model_selection import learning_curve\n",
    "\n",
    "from statsmodels.stats.outliers_influence import variance_inflation_factor as vif\n",
    "\n",
    "from sklearn.inspection import permutation_importance"
   ]
  },
  {
   "cell_type": "raw",
   "id": "92f96efd",
   "metadata": {},
   "source": [
    "See Notebook_EDA first iteration to understand what we're importing"
   ]
  },
  {
   "cell_type": "markdown",
   "id": "53a8adc3",
   "metadata": {},
   "source": [
    "# - 1st Iteration of the baseline model"
   ]
  },
  {
   "cell_type": "code",
   "execution_count": 10,
   "id": "c112fe9d",
   "metadata": {
    "ExecuteTime": {
     "end_time": "2023-02-02T10:29:14.641616Z",
     "start_time": "2023-02-02T10:29:14.537817Z"
    }
   },
   "outputs": [],
   "source": [
    "raw_data_imput_zero = pd.read_csv(\"data/raw_data_nan_to_zero.csv\")"
   ]
  },
  {
   "cell_type": "code",
   "execution_count": 7,
   "id": "ef336167",
   "metadata": {
    "ExecuteTime": {
     "end_time": "2023-02-02T10:28:19.961849Z",
     "start_time": "2023-02-02T10:28:19.856155Z"
    }
   },
   "outputs": [
    {
     "data": {
      "text/plain": [
       "0.04620881782945736"
      ]
     },
     "execution_count": 7,
     "metadata": {},
     "output_type": "execute_result"
    }
   ],
   "source": [
    "y = raw_data_imput_zero['median_house_value']\n",
    "X = raw_data_imput_zero.drop(\"median_house_value\", axis=1)\n",
    "\n",
    "# instantiate Dummy classifier\n",
    "dummy_clf = DummyClassifier(strategy=\"most_frequent\")\n",
    "\n",
    "# fit the modem\n",
    "dummy_clf.fit(X, y)\n",
    "\n",
    "dummy_clf.score(X, y)"
   ]
  },
  {
   "cell_type": "raw",
   "id": "af04796b",
   "metadata": {},
   "source": [
    "That's really bad but it's just a baseline. Let's try another model"
   ]
  },
  {
   "cell_type": "markdown",
   "id": "903c96b1",
   "metadata": {},
   "source": [
    "# - 2nd Iteration"
   ]
  },
  {
   "cell_type": "code",
   "execution_count": 11,
   "id": "af5581cb",
   "metadata": {
    "ExecuteTime": {
     "end_time": "2023-02-02T10:29:16.469694Z",
     "start_time": "2023-02-02T10:29:16.301864Z"
    }
   },
   "outputs": [
    {
     "data": {
      "text/plain": [
       "0.6350276537079453"
      ]
     },
     "execution_count": 11,
     "metadata": {},
     "output_type": "execute_result"
    }
   ],
   "source": [
    "y = raw_data_imput_zero['median_house_value']\n",
    "X = raw_data_imput_zero.drop(\"median_house_value\", axis=1)\n",
    "\n",
    "X_train, X_test, y_train, y_test = train_test_split(X, y, test_size=.3, random_state=1)\n",
    "model = LinearRegression()\n",
    "model.fit(X_train, y_train)\n",
    "model.score(X_test, y_test)"
   ]
  },
  {
   "cell_type": "raw",
   "id": "f32cdc07",
   "metadata": {},
   "source": [
    "Way better, let's try to change the nans to the mean of the column"
   ]
  },
  {
   "cell_type": "markdown",
   "id": "0a05ba6f",
   "metadata": {},
   "source": [
    "# - 3rd Iteration"
   ]
  },
  {
   "cell_type": "code",
   "execution_count": 15,
   "id": "dab2da14",
   "metadata": {
    "ExecuteTime": {
     "end_time": "2023-02-02T10:32:04.167059Z",
     "start_time": "2023-02-02T10:32:04.076333Z"
    }
   },
   "outputs": [],
   "source": [
    "raw_data_nan_to_mean = pd.read_csv(\"data/raw_data_nan_to_mean.csv\")"
   ]
  },
  {
   "cell_type": "code",
   "execution_count": 16,
   "id": "15375cac",
   "metadata": {
    "ExecuteTime": {
     "end_time": "2023-02-02T10:32:05.210212Z",
     "start_time": "2023-02-02T10:32:05.029038Z"
    },
    "scrolled": true
   },
   "outputs": [
    {
     "data": {
      "text/plain": [
       "0.6360550338337339"
      ]
     },
     "execution_count": 16,
     "metadata": {},
     "output_type": "execute_result"
    }
   ],
   "source": [
    "y = raw_data_nan_to_mean['median_house_value']\n",
    "X = raw_data_nan_to_mean.drop(\"median_house_value\", axis=1)\n",
    "\n",
    "X_train, X_test, y_train, y_test = train_test_split(X, y, test_size=.3, random_state=1)\n",
    "model = LinearRegression()\n",
    "model.fit(X_train, y_train)\n",
    "model.score(X_test, y_test)"
   ]
  },
  {
   "cell_type": "markdown",
   "id": "508c2d04",
   "metadata": {},
   "source": [
    "# - 4th Iteration"
   ]
  },
  {
   "cell_type": "code",
   "execution_count": 17,
   "id": "2e923ad5",
   "metadata": {
    "ExecuteTime": {
     "end_time": "2023-02-02T10:32:46.820772Z",
     "start_time": "2023-02-02T10:32:46.715103Z"
    }
   },
   "outputs": [],
   "source": [
    "raw_data_nan_to_med= pd.read_csv(\"data/raw_data_nan_to_med.csv\")"
   ]
  },
  {
   "cell_type": "code",
   "execution_count": 18,
   "id": "7275a919",
   "metadata": {
    "ExecuteTime": {
     "end_time": "2023-02-02T10:32:47.709722Z",
     "start_time": "2023-02-02T10:32:47.569901Z"
    }
   },
   "outputs": [
    {
     "data": {
      "text/plain": [
       "0.6359686981173531"
      ]
     },
     "execution_count": 18,
     "metadata": {},
     "output_type": "execute_result"
    }
   ],
   "source": [
    "y = raw_data_nan_to_med['median_house_value']\n",
    "X = raw_data_nan_to_med.drop(\"median_house_value\", axis=1)\n",
    "\n",
    "X_train, X_test, y_train, y_test = train_test_split(X, y, test_size=.3, random_state=1)\n",
    "model = LinearRegression()\n",
    "model.fit(X_train, y_train)\n",
    "model.score(X_test, y_test)"
   ]
  },
  {
   "cell_type": "raw",
   "id": "85578802",
   "metadata": {},
   "source": [
    "Looks like the mean is the best imputation we have right now. We'll keep it for the next steps"
   ]
  },
  {
   "cell_type": "markdown",
   "id": "2446827c",
   "metadata": {},
   "source": [
    "# - 5th Iteration"
   ]
  },
  {
   "cell_type": "raw",
   "id": "221e0183",
   "metadata": {},
   "source": [
    "Let's try using a better encoding method, and also create a function to cross validate every model from now on"
   ]
  },
  {
   "cell_type": "code",
   "execution_count": 29,
   "id": "8e5b7372",
   "metadata": {
    "ExecuteTime": {
     "end_time": "2023-02-02T11:06:05.841118Z",
     "start_time": "2023-02-02T11:06:05.809925Z"
    }
   },
   "outputs": [],
   "source": [
    "#creating a function using past notebooks to calculate model score and the best cross validation score\n",
    "def Lineareg(data,target):\n",
    "    #linear regression\n",
    "    y = data[target]\n",
    "    X = data.drop(target, axis=1)\n",
    "    X_train, X_test, y_train, y_test = train_test_split(X, y, test_size=.3, random_state=1)\n",
    "    model = LinearRegression()\n",
    "    model.fit(X_train, y_train)\n",
    "    y_pred = model.predict(X_test)\n",
    "    print(f'initial model score is {model.score(X_test, y_test)}')\n",
    "    #cross validation\n",
    "    K = []\n",
    "    total_time = []\n",
    "    score = []\n",
    "    for k in range(2,20):\n",
    "        cross_val_results = cross_validate(model, X, y, cv=k)\n",
    "        K.append(k)\n",
    "        score.append(cross_val_results['test_score'].mean())\n",
    "    #wrote these 2 lines to select the best cross validate value\n",
    "    best_cv = pd.DataFrame({'K': K,'score': score})\n",
    "    cross = best_cv.query(f'score=={max(score)}')['K'].item()\n",
    "    cv_results = cross_validate(model,X, y,cv=cross, scoring=('r2', 'neg_root_mean_squared_error','neg_mean_absolute_error'))\n",
    "    r2 = cv_results['test_r2'].mean()\n",
    "    rmse = cv_results['test_neg_root_mean_squared_error'].mean()\n",
    "    print(f'r2: {r2}')\n",
    "    print(f'rmse: {rmse}')\n"
   ]
  },
  {
   "cell_type": "code",
   "execution_count": 20,
   "id": "109f7aa0",
   "metadata": {
    "ExecuteTime": {
     "end_time": "2023-02-02T10:33:46.632355Z",
     "start_time": "2023-02-02T10:33:26.599631Z"
    }
   },
   "outputs": [
    {
     "name": "stdout",
     "output_type": "stream",
     "text": [
      "initial model score is 0.6360550338337339\n",
      "cross validation score is 0.6397134471063386\n",
      "R2 score is 0.6429703986237156\n"
     ]
    }
   ],
   "source": [
    "Lineareg(raw_data_nan_to_mean)"
   ]
  },
  {
   "cell_type": "raw",
   "id": "5e4cf9d0",
   "metadata": {},
   "source": [
    "It's even better than what I thought. Lets get the newly encoded df !"
   ]
  },
  {
   "cell_type": "markdown",
   "id": "902a234e",
   "metadata": {},
   "source": [
    "# - 6th Iteration"
   ]
  },
  {
   "cell_type": "code",
   "execution_count": 22,
   "id": "15fade61",
   "metadata": {
    "ExecuteTime": {
     "end_time": "2023-02-02T10:34:19.061909Z",
     "start_time": "2023-02-02T10:34:18.932997Z"
    }
   },
   "outputs": [],
   "source": [
    "raw_data_encoded_fillna_mean = pd.read_csv('data/raw_data_encoded_fillna_mean.csv')"
   ]
  },
  {
   "cell_type": "code",
   "execution_count": 23,
   "id": "66e53d0e",
   "metadata": {
    "ExecuteTime": {
     "end_time": "2023-02-02T10:34:39.696119Z",
     "start_time": "2023-02-02T10:34:20.049219Z"
    }
   },
   "outputs": [
    {
     "name": "stdout",
     "output_type": "stream",
     "text": [
      "initial model score is 0.6449807236042429\n",
      "cross validation score is 0.6466023555655033\n",
      "R2 score is 0.6493003961292585\n"
     ]
    }
   ],
   "source": [
    "Lineareg(raw_data_encoded_fillna_mean)"
   ]
  },
  {
   "cell_type": "raw",
   "id": "b915d299",
   "metadata": {},
   "source": [
    "Our model improved a bit, let's try discretizing housing_median_age"
   ]
  },
  {
   "cell_type": "markdown",
   "id": "b549634e",
   "metadata": {},
   "source": [
    "# - 7th Iteration"
   ]
  },
  {
   "cell_type": "code",
   "execution_count": 25,
   "id": "a7ace6a7",
   "metadata": {
    "ExecuteTime": {
     "end_time": "2023-02-02T11:00:35.772308Z",
     "start_time": "2023-02-02T11:00:35.609797Z"
    }
   },
   "outputs": [],
<<<<<<< Updated upstream
=======
   "source": [
    "data_age_encoded2 = pd.read_csv('data/data_age_encoded2.csv')"
   ]
  },
  {
   "cell_type": "code",
   "execution_count": 31,
   "id": "1009d103",
   "metadata": {
    "ExecuteTime": {
     "end_time": "2023-02-02T11:07:07.695323Z",
     "start_time": "2023-02-02T11:06:33.149429Z"
    }
   },
   "outputs": [
    {
     "name": "stdout",
     "output_type": "stream",
     "text": [
      "initial model score is 0.650031761665818\n",
      "r2: 0.6499695225758335\n",
      "rmse: -68124.98748125965\n"
     ]
    }
   ],
   "source": [
    "Lineareg(data_age_encoded2,'median_house_value')"
   ]
  },
  {
   "cell_type": "code",
   "execution_count": null,
   "id": "28518a82",
   "metadata": {},
   "outputs": [],
>>>>>>> Stashed changes
   "source": []
  }
 ],
 "metadata": {
  "kernelspec": {
   "display_name": "Python 3 (ipykernel)",
   "language": "python",
   "name": "python3"
  },
  "language_info": {
   "codemirror_mode": {
    "name": "ipython",
    "version": 3
   },
   "file_extension": ".py",
   "mimetype": "text/x-python",
   "name": "python",
   "nbconvert_exporter": "python",
   "pygments_lexer": "ipython3",
   "version": "3.8.12"
  },
  "toc": {
   "base_numbering": 1,
   "nav_menu": {},
   "number_sections": true,
   "sideBar": true,
   "skip_h1_title": false,
   "title_cell": "Table of Contents",
   "title_sidebar": "Contents",
   "toc_cell": false,
   "toc_position": {},
   "toc_section_display": true,
   "toc_window_display": false
  }
 },
 "nbformat": 4,
 "nbformat_minor": 5
}
