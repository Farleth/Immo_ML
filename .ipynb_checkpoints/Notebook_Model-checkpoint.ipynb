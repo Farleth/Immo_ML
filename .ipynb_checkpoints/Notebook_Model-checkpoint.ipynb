{
 "cells": [
  {
   "cell_type": "markdown",
   "id": "2e60f7aa",
   "metadata": {},
   "source": [
    "# - Imports"
   ]
  },
  {
   "cell_type": "code",
   "execution_count": 7,
   "id": "c96b6c34",
   "metadata": {
    "ExecuteTime": {
     "end_time": "2023-01-30T13:26:53.574839Z",
     "start_time": "2023-01-30T13:26:53.544852Z"
    }
   },
   "outputs": [],
   "source": [
    "# Imports\n",
    "import numpy as np\n",
    "import pandas as pd\n",
    "import matplotlib.pyplot as plt\n",
    "import seaborn as sns\n",
    "import missingno as mn\n",
    "\n",
    "from scipy import stats\n",
    "\n",
    "import statsmodels.api as sm\n",
    "\n",
    "from sklearn.preprocessing import MinMaxScaler\n",
    "from sklearn.tree import DecisionTreeRegressor\n",
    "\n",
    "from statsmodels.formula.api import ols\n",
    "from sklearn.model_selection import train_test_split\n",
    "from sklearn.model_selection import cross_validate\n",
    "from sklearn.model_selection import cross_val_score\n",
    "from sklearn.model_selection import cross_val_predict\n",
    "\n",
    "from sklearn.linear_model import LogisticRegression\n",
    "from sklearn.dummy import DummyClassifier\n",
    "from sklearn.neighbors import KNeighborsClassifier\n",
    "from sklearn.linear_model import LinearRegression\n",
    "\n",
    "from sklearn.metrics import accuracy_score, precision_score, recall_score, f1_score, \\\n",
    "    confusion_matrix, classification_report\n",
    "\n",
    "from sklearn.metrics import roc_auc_score, plot_roc_curve, roc_curve\n",
    "from sklearn.metrics import average_precision_score\n",
    "from sklearn.metrics import precision_recall_curve,plot_precision_recall_curve\n",
    "\n",
    "from sklearn.model_selection import learning_curve\n",
    "\n",
    "from statsmodels.stats.outliers_influence import variance_inflation_factor as vif\n",
    "\n",
    "from sklearn.inspection import permutation_importance"
   ]
  },
  {
   "cell_type": "raw",
   "id": "92f96efd",
   "metadata": {},
   "source": [
    "See Notebook_EDA first iteration to understand what we're importing"
   ]
  },
  {
   "cell_type": "markdown",
   "id": "53a8adc3",
   "metadata": {},
   "source": [
    "# - 1st Iteration of the baseline model"
   ]
  },
  {
   "cell_type": "code",
   "execution_count": 8,
   "id": "ef336167",
   "metadata": {
    "ExecuteTime": {
     "end_time": "2023-01-30T13:26:53.701398Z",
     "start_time": "2023-01-30T13:26:53.605359Z"
    }
   },
   "outputs": [
    {
     "ename": "NameError",
     "evalue": "name 'raw_data_imput_zero' is not defined",
     "output_type": "error",
     "traceback": [
      "\u001b[0;31m---------------------------------------------------------------------------\u001b[0m",
      "\u001b[0;31mNameError\u001b[0m                                 Traceback (most recent call last)",
      "Cell \u001b[0;32mIn [8], line 1\u001b[0m\n\u001b[0;32m----> 1\u001b[0m y \u001b[38;5;241m=\u001b[39m \u001b[43mraw_data_imput_zero\u001b[49m[\u001b[38;5;124m'\u001b[39m\u001b[38;5;124mmedian_house_value\u001b[39m\u001b[38;5;124m'\u001b[39m]\n\u001b[1;32m      2\u001b[0m X \u001b[38;5;241m=\u001b[39m raw_data_imput_zero\u001b[38;5;241m.\u001b[39mdrop(\u001b[38;5;124m\"\u001b[39m\u001b[38;5;124mmedian_house_value\u001b[39m\u001b[38;5;124m\"\u001b[39m, axis\u001b[38;5;241m=\u001b[39m\u001b[38;5;241m1\u001b[39m)\n\u001b[1;32m      4\u001b[0m \u001b[38;5;66;03m# instantiate Dummy classifier\u001b[39;00m\n",
      "\u001b[0;31mNameError\u001b[0m: name 'raw_data_imput_zero' is not defined"
     ]
    }
   ],
   "source": [
    "y = raw_data_imput_zero['median_house_value']\n",
    "X = raw_data_imput_zero.drop(\"median_house_value\", axis=1)\n",
    "\n",
    "# instantiate Dummy classifier\n",
    "dummy_clf = DummyClassifier(strategy=\"most_frequent\")\n",
    "\n",
    "# fit the modem\n",
    "dummy_clf.fit(X, y)\n",
    "\n",
    "dummy_clf.score(X, y)"
   ]
  },
  {
   "cell_type": "raw",
   "id": "af04796b",
   "metadata": {},
   "source": [
    "That's really bad but it's just a baseline. Let's try another model"
   ]
  },
  {
   "cell_type": "markdown",
   "id": "903c96b1",
   "metadata": {},
   "source": [
    "# - 2nd Iteration"
   ]
  },
  {
   "cell_type": "code",
   "execution_count": null,
   "id": "af5581cb",
   "metadata": {
    "ExecuteTime": {
     "end_time": "2023-01-30T13:26:53.713313Z",
     "start_time": "2023-01-30T13:26:53.713232Z"
    }
   },
   "outputs": [],
   "source": [
    "y = raw_data_imput_zero['median_house_value']\n",
    "X = raw_data_imput_zero.drop(\"median_house_value\", axis=1)\n",
    "\n",
    "X_train, X_test, y_train, y_test = train_test_split(X, y, test_size=.3, random_state=1)\n",
    "model = LinearRegression()\n",
    "model.fit(X_train, y_train)\n",
    "model.score(X_test, y_test)"
   ]
  },
  {
   "cell_type": "raw",
   "id": "f32cdc07",
   "metadata": {},
   "source": [
    "Way better, let's try to change the nans to the mean of the column"
   ]
  },
  {
   "cell_type": "markdown",
   "id": "0a05ba6f",
   "metadata": {},
   "source": [
    "# - 3rd Iteration"
   ]
  },
  {
   "cell_type": "code",
   "execution_count": 9,
   "id": "dab2da14",
   "metadata": {
    "ExecuteTime": {
     "end_time": "2023-01-30T13:26:53.832812Z",
     "start_time": "2023-01-30T13:26:53.740652Z"
    }
   },
   "outputs": [],
   "source": [
    "raw_data_nan_to_mean = pd.read_csv(\"data/raw_data_nan_to_mean.csv\")"
   ]
  },
  {
   "cell_type": "code",
   "execution_count": 10,
   "id": "15375cac",
   "metadata": {
    "ExecuteTime": {
     "end_time": "2023-01-30T13:26:54.062208Z",
     "start_time": "2023-01-30T13:26:53.849971Z"
    },
    "scrolled": true
   },
   "outputs": [
    {
     "data": {
      "text/plain": [
       "0.6360550338337339"
      ]
     },
     "execution_count": 10,
     "metadata": {},
     "output_type": "execute_result"
    }
   ],
   "source": [
    "y = raw_data_nan_to_mean['median_house_value']\n",
    "X = raw_data_nan_to_mean.drop(\"median_house_value\", axis=1)\n",
    "\n",
    "X_train, X_test, y_train, y_test = train_test_split(X, y, test_size=.3, random_state=1)\n",
    "model = LinearRegression()\n",
    "model.fit(X_train, y_train)\n",
    "model.score(X_test, y_test)"
   ]
  },
  {
   "cell_type": "markdown",
   "id": "508c2d04",
   "metadata": {},
   "source": [
    "# - 4th Iteration"
   ]
  },
  {
   "cell_type": "code",
   "execution_count": 11,
   "id": "2e923ad5",
   "metadata": {
    "ExecuteTime": {
     "end_time": "2023-01-30T13:26:54.186408Z",
     "start_time": "2023-01-30T13:26:54.079240Z"
    }
   },
   "outputs": [],
   "source": [
    "raw_data_nan_to_med= pd.read_csv(\"data/raw_data_nan_to_med.csv\")"
   ]
  },
  {
   "cell_type": "code",
   "execution_count": 12,
   "id": "7275a919",
   "metadata": {
    "ExecuteTime": {
     "end_time": "2023-01-30T13:26:54.328360Z",
     "start_time": "2023-01-30T13:26:54.198866Z"
    }
   },
   "outputs": [
    {
     "data": {
      "text/plain": [
       "0.6359686981173531"
      ]
     },
     "execution_count": 12,
     "metadata": {},
     "output_type": "execute_result"
    }
   ],
   "source": [
    "y = raw_data_nan_to_med['median_house_value']\n",
    "X = raw_data_nan_to_med.drop(\"median_house_value\", axis=1)\n",
    "\n",
    "X_train, X_test, y_train, y_test = train_test_split(X, y, test_size=.3, random_state=1)\n",
    "model = LinearRegression()\n",
    "model.fit(X_train, y_train)\n",
    "model.score(X_test, y_test)"
   ]
  },
  {
   "cell_type": "raw",
   "id": "85578802",
   "metadata": {},
   "source": [
    "Looks like the mean is the best imputation we have right now. We'll keep it for the next steps"
   ]
  },
  {
   "cell_type": "markdown",
   "id": "2446827c",
   "metadata": {},
   "source": [
    "# - 5th Iteration"
   ]
  },
  {
   "cell_type": "raw",
   "id": "221e0183",
   "metadata": {},
   "source": [
    "Let's try using a better encoding method, and also create a function to cross validate every model from now on"
   ]
  },
  {
   "cell_type": "code",
   "execution_count": 18,
   "id": "8e5b7372",
   "metadata": {
    "ExecuteTime": {
     "end_time": "2023-01-30T15:42:22.427712Z",
     "start_time": "2023-01-30T15:42:22.414638Z"
    }
   },
   "outputs": [],
   "source": [
    "#creating a function using past notebooks to calculate model score and the best cross validation score\n",
    "def Lineareg(data):\n",
    "    y = data[\"median_house_value\"]\n",
    "    X = data.drop(\"median_house_value\", axis=1)\n",
    "    X_train, X_test, y_train, y_test = train_test_split(X, y, test_size=.3, random_state=1)\n",
    "    model = LinearRegression()\n",
    "    model.fit(X_train, y_train)\n",
    "    print(f'initial model score is {model.score(X_test, y_test)}')\n",
    "\n",
    "    K = []\n",
    "    total_time = []\n",
    "    score = []\n",
    "    for k in range(2,20):\n",
    "        cross_val_results = cross_validate(model, X, y, cv=k)\n",
    "        total_time.append(sum(cross_val_results['fit_time'])+sum(cross_val_results['score_time']))\n",
    "        K.append(k)\n",
    "        score.append(cross_val_results['test_score'].mean())\n",
    "    best_cv = pd.DataFrame({'K': K,'score': score})\n",
    "    cross=best_cv.query(f'score=={max(score)}')['K'].item()\n",
    "    cv_results = cross_validate(model,X, y,cv=cross)\n",
    "    cv_score = cv_results['test_score'].mean()\n",
    "    print(f'cross validation score is {cv_score}')\n",
    "    #r2 score\n",
    "    r2 = model.score(X_train, y_train)\n",
    "    print(f'R2 score is {r2}')"
   ]
  },
  {
   "cell_type": "code",
   "execution_count": 19,
   "id": "109f7aa0",
   "metadata": {
    "ExecuteTime": {
     "end_time": "2023-01-30T15:42:32.151038Z",
     "start_time": "2023-01-30T15:42:25.106279Z"
    }
   },
   "outputs": [
    {
     "name": "stdout",
     "output_type": "stream",
     "text": [
      "initial model score is 0.6360550338337339\n",
      "cross validation score is 0.6397134471063386\n",
      "R2 score is 0.6429703986237156\n"
     ]
    }
   ],
   "source": [
    "Lineareg(raw_data_nan_to_mean)"
   ]
  },
  {
   "cell_type": "raw",
   "id": "5e4cf9d0",
   "metadata": {},
   "source": [
    "It's even better than what I thought. Lets get the newly encoded df !"
   ]
  },
  {
   "cell_type": "code",
   "execution_count": 16,
   "id": "15fade61",
   "metadata": {
    "ExecuteTime": {
     "end_time": "2023-01-30T13:37:45.194951Z",
     "start_time": "2023-01-30T13:37:45.108456Z"
    }
   },
   "outputs": [],
   "source": [
    "raw_data_encoded_fillna_mean = pd.read_csv('data/raw_data_encoded_fillna_mean.csv')"
   ]
  },
  {
   "cell_type": "code",
   "execution_count": 20,
   "id": "66e53d0e",
   "metadata": {
    "ExecuteTime": {
     "end_time": "2023-01-30T15:42:39.999503Z",
     "start_time": "2023-01-30T15:42:32.173753Z"
    }
   },
   "outputs": [
    {
     "name": "stdout",
     "output_type": "stream",
     "text": [
      "initial model score is 0.6449807236042295\n",
      "cross validation score is 0.6466023555655036\n",
      "R2 score is 0.6493003961292585\n"
     ]
    }
   ],
   "source": [
    "Lineareg(raw_data_encoded_fillna_mean)"
   ]
  },
  {
   "cell_type": "raw",
   "id": "b915d299",
   "metadata": {},
   "source": [
    "Our model improved by 0.69%!"
   ]
  },
  {
   "cell_type": "markdown",
   "id": "b549634e",
   "metadata": {},
   "source": [
    "# - 6th Iteration"
   ]
  },
  {
   "cell_type": "code",
   "execution_count": null,
   "id": "a7ace6a7",
   "metadata": {},
   "outputs": [],
   "source": []
  }
 ],
 "metadata": {
  "kernelspec": {
   "display_name": "Python 3 (ipykernel)",
   "language": "python",
   "name": "python3"
  },
  "language_info": {
   "codemirror_mode": {
    "name": "ipython",
    "version": 3
   },
   "file_extension": ".py",
   "mimetype": "text/x-python",
   "name": "python",
   "nbconvert_exporter": "python",
   "pygments_lexer": "ipython3",
   "version": "3.8.12"
  },
  "toc": {
   "base_numbering": 1,
   "nav_menu": {},
   "number_sections": true,
   "sideBar": true,
   "skip_h1_title": false,
   "title_cell": "Table of Contents",
   "title_sidebar": "Contents",
   "toc_cell": false,
   "toc_position": {},
   "toc_section_display": true,
   "toc_window_display": false
  }
 },
 "nbformat": 4,
 "nbformat_minor": 5
}
